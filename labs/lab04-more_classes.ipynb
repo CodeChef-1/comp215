{
  "nbformat": 4,
  "nbformat_minor": 0,
  "metadata": {
    "kernelspec": {
      "display_name": "Python 3",
      "language": "python",
      "name": "python3"
    },
    "language_info": {
      "codemirror_mode": {
        "name": "ipython",
        "version": 2
      },
      "file_extension": ".py",
      "mimetype": "text/x-python",
      "name": "python",
      "nbconvert_exporter": "python",
      "pygments_lexer": "ipython2",
      "version": "2.7.6"
    },
    "colab": {
      "provenance": [],
      "include_colab_link": true
    }
  },
  "cells": [
    {
      "cell_type": "markdown",
      "metadata": {
        "id": "view-in-github",
        "colab_type": "text"
      },
      "source": [
        "<a href=\"https://colab.research.google.com/github/CodeChef-1/comp215/blob/main/labs/lab04-more_classes.ipynb\" target=\"_parent\"><img src=\"https://colab.research.google.com/assets/colab-badge.svg\" alt=\"Open In Colab\"/></a>"
      ]
    },
    {
      "cell_type": "markdown",
      "source": [
        "COMP 215 - LAB 4\n",
        "----------------\n",
        "#### Name(s):\n",
        "#### Date:\n",
        "\n",
        "By the end of this lab you should be able to:\n",
        "  * use composition and inheritance in a `class` to categorize related information\n",
        "\n",
        "\n",
        "During this lab, you will be introduced to the following:\n",
        "  * something, something\n",
        "\n"
      ],
      "metadata": {
        "id": "nbRPZPKZU5Pk"
      }
    },
    {
      "cell_type": "markdown",
      "source": [
        "## Near Earth Objects (with more classes)\n",
        "\n",
        "We'll continue working with Near Earth Object data using NASA's API: https://api.nasa.gov/.  In Lab 3 we defined an Asteroid class that contained a simple data structure.  In this lab, we will be Here's a brief review from Lab 2 on how to use the API.  "
      ],
      "metadata": {
        "id": "j0F0hjKzgQ1W"
      }
    },
    {
      "cell_type": "code",
      "execution_count": 2,
      "outputs": [],
      "source": [
        "# import necessary modules\n",
        "import datetime, json, requests\n",
        "from pprint import pprint"
      ],
      "metadata": {
        "pycharm": {
          "name": "#%%\n"
        },
        "ExecuteTime": {
          "end_time": "2024-01-04T04:10:54.380220Z",
          "start_time": "2024-01-04T04:10:54.335677Z"
        },
        "id": "TLWTJDuVfSzO"
      }
    },
    {
      "cell_type": "markdown",
      "source": [
        "### Review: make an API query\n",
        "\n",
        "Here's a query that gets the record for a single NEO that recently passed by."
      ],
      "metadata": {
        "collapsed": false,
        "pycharm": {
          "name": "#%% md\n"
        },
        "id": "ug6L49x3fSzP"
      }
    },
    {
      "cell_type": "code",
      "execution_count": 3,
      "outputs": [
        {
          "output_type": "stream",
          "name": "stdout",
          "text": [
            "117 Near Earth Objects found for week of 2023-01-15\n",
            "Record for NEO ID 54339874 is:\n"
          ]
        }
      ],
      "source": [
        "#API_KEY = 'DEMO_KEY'  # substitute your API key here\n",
        "API_KEY = 'QMU73gySBTeUk6FVRje8eMwNOFfI1FZOwRtlf0Xo'\n",
        "\n",
        "def get_neos(start_date):\n",
        "    \"\"\" Return a list of NEO for the week starting at start_date \"\"\"\n",
        "    url = f'https://api.nasa.gov/neo/rest/v1/feed?start_date={start_date}&api_key={API_KEY}'\n",
        "    # Fetch last week's NEO feed\n",
        "    response = requests.request(\"GET\", url, headers={}, data={})\n",
        "    data = json.loads(response.text)\n",
        "    #pprint(data)\n",
        "    print(f'{data[\"element_count\"]} Near Earth Objects found for week of {start_date}')\n",
        "    return [neo for dated_records in data['near_earth_objects'].values() for neo in dated_records ]\n",
        "\n",
        "def get_neo(id):\n",
        "    \"\"\" Return a NEO record for the given id \"\"\"\n",
        "    url = f'https://api.nasa.gov/neo/rest/v1/neo/{id}?api_key={API_KEY}'\n",
        "    response = requests.request(\"GET\", url, headers={}, data={})\n",
        "    return json.loads(response.text)\n",
        "\n",
        "week_start = '2023-01-15'\n",
        "neos = get_neos(week_start)\n",
        "assert len(neos) > 0, f'Oh oh!  No NEOs found for {week_start}'\n",
        "neo = get_neo(neos[-1]['id'])  # get the very latest NEO\n",
        "print(f\"Record for NEO ID {neos[-1]['id']} is:\")\n",
        "#pprint(neo)"
      ],
      "metadata": {
        "pycharm": {
          "name": "#%%\n"
        },
        "ExecuteTime": {
          "end_time": "2024-01-04T04:11:12.889668Z",
          "start_time": "2024-01-04T04:10:54.383166Z"
        },
        "id": "7Ex-7gB4fSzP",
        "collapsed": true,
        "colab": {
          "base_uri": "https://localhost:8080/"
        },
        "outputId": "c1a9921b-da7a-40ef-a935-8afd07df8141"
      }
    },
    {
      "cell_type": "markdown",
      "source": [
        "## Exercise 1: Define a CloseApproach class\n",
        "\n",
        "Each NEO record comes with a list of `close_approach_data`, where each record in this list represents a single “close approach” to another orbiting body.\n",
        "1. Develop a class named `CloseApproach` to represent a single close approach record.  State variables are\n",
        "\n",
        "        neo (refrence to related NEO object)\n",
        "        orbiting body (str)\n",
        "        approach date (datetime object!)\n",
        "        miss distance (float - choose units, document it, and be consistent!)\n",
        "        relative velocity (ditto)\n",
        "  \n",
        "2. Define a \"Factory\" class method to construct a `CloseApproach` object from one close approach data record (a dictionary object). This method takes a `neo` object as input for the NEO to which the close approach data belongs. Remember to parse the date/time string into a datetime object."
      ],
      "metadata": {
        "id": "DNRs7ynOYwYk"
      }
    },
    {
      "cell_type": "code",
      "source": [
        "from datetime import datetime\n",
        "\n",
        "class CloseApproach:\n",
        "\n",
        "    def __init__(self, neo, orbiting_body, approach_date, miss_distance, relative_velocity):\n",
        "        self.neo = neo\n",
        "        self.orbiting_body = orbiting_body\n",
        "        self.approach_date = approach_date\n",
        "        self.miss_distance = miss_distance  # in kilometers\n",
        "        self.relative_velocity = relative_velocity  # in kilometers per second\n",
        "\n",
        "    @classmethod\n",
        "    def from_dict(cls, neo):\n",
        "        #pprint(neo)\n",
        "        approach_data = neo[0]\n",
        "        approach_date_str = approach_data['close_approach_date']\n",
        "        approach_date = datetime.strptime(approach_date_str, '%Y-%m-%d') # Use datetime.strptime\n",
        "        miss_distance_km = float(approach_data['miss_distance']['kilometers'])\n",
        "        relative_velocity_km_s = float(approach_data['relative_velocity']['kilometers_per_second'])\n",
        "\n",
        "        return cls(neo, approach_data['orbiting_body'], approach_date, miss_distance_km, relative_velocity_km_s)\n",
        "\n",
        "    def __repr__(self) -> str:\n",
        "        return f\"CloseApproach(neo={self.neo}, orbiting_body={self.orbiting_body}, approach_date={self.approach_date}, miss_distance={self.miss_distance}, relative_velocity={self.relative_velocity})\"\n",
        "\n",
        "# Example usage\n",
        "\n",
        "neo_data_example = get_neo(54339874)\n",
        "test_approach = CloseApproach.from_dict(neo_data_example['close_approach_data'])\n",
        "print(repr(test_approach))\n",
        "print(test_approach.approach_date)\n",
        "print(test_approach.miss_distance)\n",
        "#code did not function properly so i let gemini correct some mistakes"
      ],
      "metadata": {
        "colab": {
          "base_uri": "https://localhost:8080/"
        },
        "id": "NtkzYIRa3Bhn",
        "outputId": "883ee80a-9b4a-4bad-cdf9-3fe5b36c1649"
      },
      "execution_count": 5,
      "outputs": [
        {
          "output_type": "stream",
          "name": "stdout",
          "text": [
            "CloseApproach(neo=[{'close_approach_date': '1949-07-04', 'close_approach_date_full': '1949-Jul-04 22:19', 'epoch_date_close_approach': -646710060000, 'relative_velocity': {'kilometers_per_second': '20.4193538659', 'kilometers_per_hour': '73509.6739172087', 'miles_per_hour': '45676.0526626122'}, 'miss_distance': {'astronomical': '0.419726307', 'lunar': '163.273533423', 'kilometers': '62790161.51016609', 'miles': '39015997.166588442'}, 'orbiting_body': 'Earth'}, {'close_approach_date': '1950-08-07', 'close_approach_date_full': '1950-Aug-07 12:47', 'epoch_date_close_approach': -612270780000, 'relative_velocity': {'kilometers_per_second': '11.1844693277', 'kilometers_per_hour': '40264.0895797362', 'miles_per_hour': '25018.5394391422'}, 'miss_distance': {'astronomical': '0.2356866436', 'lunar': '91.6821043604', 'kilometers': '35258219.870009132', 'miles': '21908441.9192727416'}, 'orbiting_body': 'Earth'}, {'close_approach_date': '1951-01-22', 'close_approach_date_full': '1951-Jan-22 19:42', 'epoch_date_close_approach': -597730680000, 'relative_velocity': {'kilometers_per_second': '10.9888695377', 'kilometers_per_hour': '39559.930335599', 'miles_per_hour': '24581.002268806'}, 'miss_distance': {'astronomical': '0.1812442846', 'lunar': '70.5040267094', 'kilometers': '27113758.925833802', 'miles': '16847708.5578863876'}, 'orbiting_body': 'Earth'}, {'close_approach_date': '1952-01-27', 'close_approach_date_full': '1952-Jan-27 01:08', 'epoch_date_close_approach': -565829520000, 'relative_velocity': {'kilometers_per_second': '22.1502058617', 'kilometers_per_hour': '79740.741102017', 'miles_per_hour': '49547.7954919728'}, 'miss_distance': {'astronomical': '0.4865554066', 'lunar': '189.2700531674', 'kilometers': '72787652.464343942', 'miles': '45228149.9841607196'}, 'orbiting_body': 'Earth'}, {'close_approach_date': '1982-01-18', 'close_approach_date_full': '1982-Jan-18 03:11', 'epoch_date_close_approach': 380171460000, 'relative_velocity': {'kilometers_per_second': '12.1057110026', 'kilometers_per_hour': '43580.5596094554', 'miles_per_hour': '27079.2649417752'}, 'miss_distance': {'astronomical': '0.0840484105', 'lunar': '32.6948316845', 'kilometers': '12573463.187685635', 'miles': '7812787.741046363'}, 'orbiting_body': 'Earth'}, {'close_approach_date': '1990-07-06', 'close_approach_date_full': '1990-Jul-06 13:53', 'epoch_date_close_approach': 647272380000, 'relative_velocity': {'kilometers_per_second': '19.7759249398', 'kilometers_per_hour': '71193.3297832904', 'miles_per_hour': '44236.7664978451'}, 'miss_distance': {'astronomical': '0.3935002201', 'lunar': '153.0715856189', 'kilometers': '58866794.771491187', 'miles': '36578130.1205729006'}, 'orbiting_body': 'Earth'}, {'close_approach_date': '1991-08-09', 'close_approach_date_full': '1991-Aug-09 18:05', 'epoch_date_close_approach': 681761100000, 'relative_velocity': {'kilometers_per_second': '11.3898252175', 'kilometers_per_hour': '41003.370782865', 'miles_per_hour': '25477.9000289419'}, 'miss_distance': {'astronomical': '0.2675469468', 'lunar': '104.0757623052', 'kilometers': '40024453.366283316', 'miles': '24870042.0826331208'}, 'orbiting_body': 'Earth'}, {'close_approach_date': '1992-01-21', 'close_approach_date_full': '1992-Jan-21 18:11', 'epoch_date_close_approach': 696017460000, 'relative_velocity': {'kilometers_per_second': '11.0627289144', 'kilometers_per_hour': '39825.8240917349', 'miles_per_hour': '24746.218308556'}, 'miss_distance': {'astronomical': '0.1547346985', 'lunar': '60.1917977165', 'kilometers': '23147981.310692195', 'miles': '14383488.615234491'}, 'orbiting_body': 'Earth'}, {'close_approach_date': '2001-07-31', 'close_approach_date_full': '2001-Jul-31 11:31', 'epoch_date_close_approach': 996579060000, 'relative_velocity': {'kilometers_per_second': '11.1052691099', 'kilometers_per_hour': '39978.9687958168', 'miles_per_hour': '24841.3764720451'}, 'miss_distance': {'astronomical': '0.1155283623', 'lunar': '44.9405329347', 'kilometers': '17282796.924668301', 'miles': '10739032.0334565138'}, 'orbiting_body': 'Earth'}, {'close_approach_date': '2002-01-29', 'close_approach_date_full': '2002-Jan-29 22:33', 'epoch_date_close_approach': 1012343580000, 'relative_velocity': {'kilometers_per_second': '11.0057537506', 'kilometers_per_hour': '39620.7135020855', 'miles_per_hour': '24618.7705646708'}, 'miss_distance': {'astronomical': '0.2762531188', 'lunar': '107.4624632132', 'kilometers': '41326878.153336956', 'miles': '25679331.3180677528'}, 'orbiting_body': 'Earth'}, {'close_approach_date': '2003-01-23', 'close_approach_date_full': '2003-Jan-23 11:27', 'epoch_date_close_approach': 1043321220000, 'relative_velocity': {'kilometers_per_second': '19.2759435907', 'kilometers_per_hour': '69393.3969265301', 'miles_per_hour': '43118.3582180431'}, 'miss_distance': {'astronomical': '0.3790978223', 'lunar': '147.4690528747', 'kilometers': '56712226.737718501', 'miles': '35239343.6247412738'}, 'orbiting_body': 'Earth'}, {'close_approach_date': '2011-07-25', 'close_approach_date_full': '2011-Jul-25 00:38', 'epoch_date_close_approach': 1311554280000, 'relative_velocity': {'kilometers_per_second': '12.2933988847', 'kilometers_per_hour': '44256.2359849621', 'miles_per_hour': '27499.1039652116'}, 'miss_distance': {'astronomical': '0.0238528057', 'lunar': '9.2787414173', 'kilometers': '3568328.926243859', 'miles': '2217256.7792048942'}, 'orbiting_body': 'Earth'}, {'close_approach_date': '2013-01-19', 'close_approach_date_full': '2013-Jan-19 19:12', 'epoch_date_close_approach': 1358622720000, 'relative_velocity': {'kilometers_per_second': '15.8453286581', 'kilometers_per_hour': '57043.1831690909', 'miles_per_hour': '35444.4156752609'}, 'miss_distance': {'astronomical': '0.2380478856', 'lunar': '92.6006274984', 'kilometers': '35611456.643763672', 'miles': '22127933.0725437936'}, 'orbiting_body': 'Earth'}, {'close_approach_date': '2021-07-13', 'close_approach_date_full': '2021-Jul-13 03:13', 'epoch_date_close_approach': 1626145980000, 'relative_velocity': {'kilometers_per_second': '16.5197167177', 'kilometers_per_hour': '59470.980183787', 'miles_per_hour': '36952.9543258647'}, 'miss_distance': {'astronomical': '0.2543704179', 'lunar': '98.9500925631', 'kilometers': '38053272.708849873', 'miles': '23645207.2184513274'}, 'orbiting_body': 'Earth'}, {'close_approach_date': '2022-08-21', 'close_approach_date_full': '2022-Aug-21 03:08', 'epoch_date_close_approach': 1661051280000, 'relative_velocity': {'kilometers_per_second': '12.9111643102', 'kilometers_per_hour': '46480.1915168032', 'miles_per_hour': '28880.9834455381'}, 'miss_distance': {'astronomical': '0.3981833179', 'lunar': '154.8933106631', 'kilometers': '59567376.227372873', 'miles': '37013451.2511487274'}, 'orbiting_body': 'Earth'}, {'close_approach_date': '2023-01-18', 'close_approach_date_full': '2023-Jan-18 17:45', 'epoch_date_close_approach': 1674063900000, 'relative_velocity': {'kilometers_per_second': '11.9219119974', 'kilometers_per_hour': '42918.8831905878', 'miles_per_hour': '26668.1249469516'}, 'miss_distance': {'astronomical': '0.0823813629', 'lunar': '32.0463501681', 'kilometers': '12324076.417537023', 'miles': '7657825.9877479974'}, 'orbiting_body': 'Earth'}, {'close_approach_date': '2031-07-02', 'close_approach_date_full': '2031-Jul-02 11:54', 'epoch_date_close_approach': 1940759640000, 'relative_velocity': {'kilometers_per_second': '22.1138944359', 'kilometers_per_hour': '79610.0199691849', 'miles_per_hour': '49466.5704636305'}, 'miss_distance': {'astronomical': '0.4867163563', 'lunar': '189.3326626007', 'kilometers': '72811730.196641081', 'miles': '45243111.1932496778'}, 'orbiting_body': 'Earth'}, {'close_approach_date': '2032-08-02', 'close_approach_date_full': '2032-Aug-02 16:31', 'epoch_date_close_approach': 1975077060000, 'relative_velocity': {'kilometers_per_second': '11.0103366209', 'kilometers_per_hour': '39637.2118350823', 'miles_per_hour': '24629.0219871932'}, 'miss_distance': {'astronomical': '0.1612713598', 'lunar': '62.7345589622', 'kilometers': '24125851.918083626', 'miles': '14991109.2349249988'}, 'orbiting_body': 'Earth'}, {'close_approach_date': '2033-01-26', 'close_approach_date_full': '2033-Jan-26 13:52', 'epoch_date_close_approach': 1990360320000, 'relative_velocity': {'kilometers_per_second': '10.9915345018', 'kilometers_per_hour': '39569.5242063302', 'miles_per_hour': '24586.9635269834'}, 'miss_distance': {'astronomical': '0.2404366225', 'lunar': '93.5298461525', 'kilometers': '35968806.595994075', 'miles': '22349980.036405235'}, 'orbiting_body': 'Earth'}, {'close_approach_date': '2034-01-24', 'close_approach_date_full': '2034-Jan-24 13:13', 'epoch_date_close_approach': 2021721180000, 'relative_velocity': {'kilometers_per_second': '20.1745669597', 'kilometers_per_hour': '72628.4410549992', 'miles_per_hour': '45128.4888322021'}, 'miss_distance': {'astronomical': '0.4123535311', 'lunar': '160.4055235979', 'kilometers': '61687209.939538757', 'miles': '38330654.8403465666'}, 'orbiting_body': 'Earth'}, {'close_approach_date': '2042-07-22', 'close_approach_date_full': '2042-Jul-22 11:23', 'epoch_date_close_approach': 2289640980000, 'relative_velocity': {'kilometers_per_second': '12.9643206122', 'kilometers_per_hour': '46671.5542040525', 'miles_per_hour': '28999.8887775125'}, 'miss_distance': {'astronomical': '0.0690857369', 'lunar': '26.8743516541', 'kilometers': '10335079.087620403', 'miles': '6421920.3566434414'}, 'orbiting_body': 'Earth'}, {'close_approach_date': '2044-01-19', 'close_approach_date_full': '2044-Jan-19 20:08', 'epoch_date_close_approach': 2336846880000, 'relative_velocity': {'kilometers_per_second': '14.762977905', 'kilometers_per_hour': '53146.7204581278', 'miles_per_hour': '33023.3052757739'}, 'miss_distance': {'astronomical': '0.1905869801', 'lunar': '74.1383352589', 'kilometers': '28511406.272692387', 'miles': '17716166.3483014606'}, 'orbiting_body': 'Earth'}, {'close_approach_date': '2052-07-09', 'close_approach_date_full': '2052-Jul-09 10:53', 'epoch_date_close_approach': 2604135180000, 'relative_velocity': {'kilometers_per_second': '18.1821007881', 'kilometers_per_hour': '65455.5628370156', 'miles_per_hour': '40671.5412528112'}, 'miss_distance': {'astronomical': '0.3275236394', 'lunar': '127.4066957266', 'kilometers': '48996838.828888078', 'miles': '30445223.8844803564'}, 'orbiting_body': 'Earth'}, {'close_approach_date': '2053-08-12', 'close_approach_date_full': '2053-Aug-12 20:57', 'epoch_date_close_approach': 2638645020000, 'relative_velocity': {'kilometers_per_second': '11.9140467475', 'kilometers_per_hour': '42890.568291041', 'miles_per_hour': '26650.5311695083'}, 'miss_distance': {'astronomical': '0.3222809653', 'lunar': '125.3672955017', 'kilometers': '48212545.950423911', 'miles': '29957886.8879195318'}, 'orbiting_body': 'Earth'}, {'close_approach_date': '2054-01-19', 'close_approach_date_full': '2054-Jan-19 19:35', 'epoch_date_close_approach': 2652464100000, 'relative_velocity': {'kilometers_per_second': '11.3005024701', 'kilometers_per_hour': '40681.8088924745', 'miles_per_hour': '25278.0939754378'}, 'miss_distance': {'astronomical': '0.114777459', 'lunar': '44.648431551', 'kilometers': '17170463.39041233', 'miles': '10669231.211976954'}, 'orbiting_body': 'Earth'}, {'close_approach_date': '2063-07-28', 'close_approach_date_full': '2063-Jul-28 17:25', 'epoch_date_close_approach': 2952869100000, 'relative_velocity': {'kilometers_per_second': '11.5126719542', 'kilometers_per_hour': '41445.6190351682', 'miles_per_hour': '25752.69589438'}, 'miss_distance': {'astronomical': '0.0529563645', 'lunar': '20.6000257905', 'kilometers': '7922159.332143615', 'miles': '4922601.544927287'}, 'orbiting_body': 'Earth'}, {'close_approach_date': '2064-02-05', 'close_approach_date_full': '2064-Feb-05 04:14', 'epoch_date_close_approach': 2969410440000, 'relative_velocity': {'kilometers_per_second': '11.0548742333', 'kilometers_per_hour': '39797.54723997', 'miles_per_hour': '24728.6481725247'}, 'miss_distance': {'astronomical': '0.3260446842', 'lunar': '126.8313821538', 'kilometers': '48775590.281142654', 'miles': '30307746.4118264652'}, 'orbiting_body': 'Earth'}, {'close_approach_date': '2065-01-21', 'close_approach_date_full': '2065-Jan-21 12:00', 'epoch_date_close_approach': 2999764800000, 'relative_velocity': {'kilometers_per_second': '17.5105677078', 'kilometers_per_hour': '63038.0437482442', 'miles_per_hour': '39169.3889056798'}, 'miss_distance': {'astronomical': '0.3082705725', 'lunar': '119.9172527025', 'kilometers': '46116621.029680575', 'miles': '28655539.532818935'}, 'orbiting_body': 'Earth'}, {'close_approach_date': '2073-07-17', 'close_approach_date_full': '2073-Jul-17 07:12', 'epoch_date_close_approach': 3267501120000, 'relative_velocity': {'kilometers_per_second': '14.7619191525', 'kilometers_per_hour': '53142.9089491476', 'miles_per_hour': '33020.936952319'}, 'miss_distance': {'astronomical': '0.1702714735', 'lunar': '66.2356031915', 'kilometers': '25472249.757361445', 'miles': '15827722.058000141'}, 'orbiting_body': 'Earth'}, {'close_approach_date': '2075-01-18', 'close_approach_date_full': '2075-Jan-18 14:58', 'epoch_date_close_approach': 3315049080000, 'relative_velocity': {'kilometers_per_second': '13.0564395686', 'kilometers_per_hour': '47003.1824467958', 'miles_per_hour': '29205.9496708993'}, 'miss_distance': {'astronomical': '0.1124377163', 'lunar': '43.7382716407', 'kilometers': '16820442.866144281', 'miles': '10451738.5434658378'}, 'orbiting_body': 'Earth'}, {'close_approach_date': '2083-07-07', 'close_approach_date_full': '2083-Jul-07 14:15', 'epoch_date_close_approach': 3582195300000, 'relative_velocity': {'kilometers_per_second': '19.5629147246', 'kilometers_per_hour': '70426.4930085546', 'miles_per_hour': '43760.2839474544'}, 'miss_distance': {'astronomical': '0.3844804977', 'lunar': '149.5629136053', 'kilometers': '57517463.512459899', 'miles': '35739694.5549846462'}, 'orbiting_body': 'Earth'}, {'close_approach_date': '2085-01-21', 'close_approach_date_full': '2085-Jan-21 04:59', 'epoch_date_close_approach': 3630891540000, 'relative_velocity': {'kilometers_per_second': '11.0814547041', 'kilometers_per_hour': '39893.2369346916', 'miles_per_hour': '24788.1060275588'}, 'miss_distance': {'astronomical': '0.1526960535', 'lunar': '59.3987648115', 'kilometers': '22843004.361006045', 'miles': '14193984.726111621'}, 'orbiting_body': 'Earth'}, {'close_approach_date': '2096-01-22', 'close_approach_date_full': '2096-Jan-22 06:43', 'epoch_date_close_approach': 3978052980000, 'relative_velocity': {'kilometers_per_second': '17.6194001795', 'kilometers_per_hour': '63429.8406460211', 'miles_per_hour': '39412.8362614124'}, 'miss_distance': {'astronomical': '0.3131415381', 'lunar': '121.8120583209', 'kilometers': '46845307.108283847', 'miles': '29108324.0661652086'}, 'orbiting_body': 'Earth'}, {'close_approach_date': '2104-07-20', 'close_approach_date_full': '2104-Jul-20 13:54', 'epoch_date_close_approach': 4246005240000, 'relative_velocity': {'kilometers_per_second': '13.8356402609', 'kilometers_per_hour': '49808.3049391986', 'miles_per_hour': '30948.9436995815'}, 'miss_distance': {'astronomical': '0.1204030569', 'lunar': '46.8367891341', 'kilometers': '18012040.853728803', 'miles': '11192163.1990033614'}, 'orbiting_body': 'Earth'}, {'close_approach_date': '2106-01-19', 'close_approach_date_full': '2106-Jan-19 19:52', 'epoch_date_close_approach': 4293373920000, 'relative_velocity': {'kilometers_per_second': '13.9980767994', 'kilometers_per_hour': '50393.0764778321', 'miles_per_hour': '31312.2979925729'}, 'miss_distance': {'astronomical': '0.1561116849', 'lunar': '60.7274454261', 'kilometers': '23353975.543151163', 'miles': '14511487.4958975294'}, 'orbiting_body': 'Earth'}, {'close_approach_date': '2114-07-12', 'close_approach_date_full': '2114-Jul-12 16:04', 'epoch_date_close_approach': 4560854640000, 'relative_velocity': {'kilometers_per_second': '17.4401465834', 'kilometers_per_hour': '62784.5277001417', 'miles_per_hour': '39011.8638923464'}, 'miss_distance': {'astronomical': '0.2956270353', 'lunar': '114.9989167317', 'kilometers': '44225174.795294811', 'miles': '27480249.3417019518'}, 'orbiting_body': 'Earth'}, {'close_approach_date': '2116-01-20', 'close_approach_date_full': '2116-Jan-20 12:56', 'epoch_date_close_approach': 4608968160000, 'relative_velocity': {'kilometers_per_second': '11.6241172546', 'kilometers_per_hour': '41846.8221164506', 'miles_per_hour': '26001.9878867467'}, 'miss_distance': {'astronomical': '0.0912510077', 'lunar': '35.4966419953', 'kilometers': '13650956.387273599', 'miles': '8482310.9690657062'}, 'orbiting_body': 'Earth'}], orbiting_body=Earth, approach_date=1949-07-04 00:00:00, miss_distance=62790161.51016609, relative_velocity=20.4193538659)\n",
            "1949-07-04 00:00:00\n",
            "62790161.51016609\n"
          ]
        }
      ]
    },
    {
      "cell_type": "markdown",
      "source": [
        "## Exercise 2: Add list of CloseApproach objects to the Asteroid\n",
        "\n",
        "Define an `Asteroid` class, like you did in Lab 3, but give the `Asteroid` list of “close approaches”.  This is called *composition* because each Asteroid object will be *composed* of CloseApproach objects (plus some other things).  There is bit of a catch-22 here because we need the `Asteroid` to construct the `CloseApproach` objects. The first two steps deal with that:\n",
        "\n",
        "1. Add an instance variable to your Asteroid class with a default value of an empty list:\n",
        "\n",
        "    ```\n",
        "    close_approaches:list = []\n",
        "    ```\n",
        "      \n",
        "2. In the Asteroid `from_NEO` factory, use a list comprehension to build the list of `CloseApproach` objects for the Asteroid instance, and then set the instance's `close_approaches` variable before returning it. Setting the value of an object's instance variables from outside the class is generally frowned upon - this is why we make the factory a method of the class itself.\n",
        "\n",
        "3. Add a method to `Asteroid` to return the `CloseApproach` object for the nearest miss (ie. smallest `missed_distance`):\n",
        "    ```\n",
        "    def nearest_miss(self):\n",
        "        ...\n",
        "    ```\n",
        "\n",
        "4. Add a method to the Asteroid class, `closest_earth_approach`, that returns the CloseApproach object that represents the closest approach the Asteroid makes to Earth.\n",
        "    ```\n",
        "    def closest_earth_approach(self):\n",
        "        ...\n",
        "      \n",
        "    ```\n",
        "\n",
        "Write some test code to demonstrate these new features."
      ],
      "metadata": {
        "collapsed": false,
        "id": "0q5w7OkHfSzQ"
      }
    },
    {
      "cell_type": "code",
      "execution_count": 49,
      "outputs": [
        {
          "output_type": "error",
          "ename": "AttributeError",
          "evalue": "'list' object has no attribute 'nearest_miss'",
          "traceback": [
            "\u001b[0;31m---------------------------------------------------------------------------\u001b[0m",
            "\u001b[0;31mAttributeError\u001b[0m                            Traceback (most recent call last)",
            "\u001b[0;32m<ipython-input-49-317aa3bf1e65>\u001b[0m in \u001b[0;36m<cell line: 0>\u001b[0;34m()\u001b[0m\n\u001b[1;32m     32\u001b[0m \u001b[0mtest_approach\u001b[0m \u001b[0;34m=\u001b[0m \u001b[0mAsteroid\u001b[0m\u001b[0;34m.\u001b[0m\u001b[0mfrom_neo\u001b[0m\u001b[0;34m(\u001b[0m\u001b[0;36m54339874\u001b[0m\u001b[0;34m)\u001b[0m \u001b[0;31m#create instance of the Asteroid class\u001b[0m\u001b[0;34m\u001b[0m\u001b[0;34m\u001b[0m\u001b[0m\n\u001b[1;32m     33\u001b[0m \u001b[0;31m#print(test_approach)\u001b[0m\u001b[0;34m\u001b[0m\u001b[0;34m\u001b[0m\u001b[0m\n\u001b[0;32m---> 34\u001b[0;31m \u001b[0mtest_approach\u001b[0m\u001b[0;34m.\u001b[0m\u001b[0mnearest_miss\u001b[0m\u001b[0;34m(\u001b[0m\u001b[0;34m)\u001b[0m\u001b[0;34m\u001b[0m\u001b[0;34m\u001b[0m\u001b[0m\n\u001b[0m\u001b[1;32m     35\u001b[0m \u001b[0;31m#help(Asteroid)\u001b[0m\u001b[0;34m\u001b[0m\u001b[0;34m\u001b[0m\u001b[0m\n\u001b[1;32m     36\u001b[0m \u001b[0;34m\u001b[0m\u001b[0m\n",
            "\u001b[0;31mAttributeError\u001b[0m: 'list' object has no attribute 'nearest_miss'"
          ]
        }
      ],
      "source": [
        "'''\n",
        "class Asteroid:\n",
        "\n",
        "    close_approaches: list = []\n",
        "\n",
        "    def __init__(self, CloseApproach, name:str, diameter:float, hazardous:bool, nearmiss):\n",
        "        self.name = name\n",
        "        self.diameter = diameter\n",
        "        self.hazardous = hazardous\n",
        "        self.close_approaches = []\n",
        "        self.nearmiss = nearmiss\n",
        "\n",
        "    @classmethod\n",
        "    def from_neo(cls, neoid):\n",
        "      # Using CloseApproach.from_dict for composition\n",
        "      neo_data = get_neo(neoid)\n",
        "      #pprint(neo_data)\n",
        "      cls.close_approaches = [approach for approach in neo_data['close_approach_data']]\n",
        "      #pprint((cls.close_approaches))\n",
        "      return cls.close_approaches\n",
        "\n",
        "    def nearest_miss(self):\n",
        "      pprint(self.close_approaches[0])\n",
        "      nearmiss = min(self.close_approaches['miss_distance']['kilometers'])\n",
        "      return nearmiss\n",
        "\n",
        "    def closest_earth_approach(self):\n",
        "      return min(self.close_approaches, key=lambda x: x.approach_date)\n",
        "\n",
        "   #gemini showed me what the lambda func does, it makes a small unamed function, this should only be used in very small segments of code\n",
        "\n",
        "#neo_data_example = get_neo(54339874)\n",
        "test_approach = Asteroid.from_neo(54339874) #create instance of the Asteroid class\n",
        "#print(test_approach)\n",
        "test_approach.nearest_miss()\n",
        "#help(Asteroid)\n",
        "\n",
        "#neo_data_example = get_neo(54339874)\n",
        "#testcase = Asteroid.nearest_miss(neo_data_example)\n",
        "'''\n"
      ],
      "metadata": {
        "ExecuteTime": {
          "end_time": "2024-01-04T04:11:12.899780Z",
          "start_time": "2024-01-04T04:11:12.897929Z"
        },
        "id": "0P971NWDfSzQ",
        "collapsed": true,
        "colab": {
          "base_uri": "https://localhost:8080/",
          "height": 216
        },
        "outputId": "523b37e7-0d79-404e-d770-e79007f8b46b"
      }
    },
    {
      "source": [
        "'''this is the gemini corrected version'''\n",
        "class Asteroid:\n",
        "    close_approaches: list = []\n",
        "\n",
        "    def __init__(self, CloseApproach, name: str, diameter: float, hazardous: bool, nearmiss):\n",
        "        self.name = name\n",
        "        self.diameter = diameter\n",
        "        self.hazardous = hazardous\n",
        "        self.close_approaches = []\n",
        "        self.nearmiss = nearmiss\n",
        "\n",
        "    @classmethod\n",
        "    def from_neo(cls, neoid):\n",
        "        # Using CloseApproach.from_dict for composition\n",
        "        neo_data = get_neo(neoid)\n",
        "        asteroid_instance = cls(None, neo_data['name'], neo_data['estimated_diameter']['kilometers']['estimated_diameter_max'],\n",
        "                               neo_data['is_potentially_hazardous_asteroid'], None)\n",
        "        asteroid_instance.close_approaches = [CloseApproach.from_dict([approach]) for approach in neo_data['close_approach_data']]\n",
        "        return asteroid_instance  # Return the instance\n",
        "\n",
        "    def nearest_miss(self):\n",
        "        nearmiss = min(self.close_approaches, key=lambda x: x.miss_distance)\n",
        "        return nearmiss.miss_distance\n",
        "\n",
        "    def closest_earth_approach(self):\n",
        "        earth_approaches = [approach for approach in self.close_approaches if approach.orbiting_body == 'Earth']\n",
        "        if not earth_approaches:\n",
        "            return None\n",
        "        return min(earth_approaches, key=lambda x: x.miss_distance)\n",
        "\n",
        "#neo_data_example = get_neo(54339874)\n",
        "test_approach = Asteroid.from_neo(54339874) #create instance of the Asteroid class\n",
        "#print(test_approach)\n",
        "#test_approach.nearest_miss()\n",
        "test_approach.closest_earth_approach()\n",
        "#help(Asteroid)"
      ],
      "cell_type": "code",
      "metadata": {
        "colab": {
          "base_uri": "https://localhost:8080/"
        },
        "id": "d3rhz11DXzlw",
        "outputId": "94a8e809-db10-4ebe-f6f9-d4218ee1879f"
      },
      "execution_count": 55,
      "outputs": [
        {
          "output_type": "execute_result",
          "data": {
            "text/plain": [
              "CloseApproach(neo=[{'close_approach_date': '2011-07-25', 'close_approach_date_full': '2011-Jul-25 00:38', 'epoch_date_close_approach': 1311554280000, 'relative_velocity': {'kilometers_per_second': '12.2933988847', 'kilometers_per_hour': '44256.2359849621', 'miles_per_hour': '27499.1039652116'}, 'miss_distance': {'astronomical': '0.0238528057', 'lunar': '9.2787414173', 'kilometers': '3568328.926243859', 'miles': '2217256.7792048942'}, 'orbiting_body': 'Earth'}], orbiting_body=Earth, approach_date=2011-07-25 00:00:00, miss_distance=3568328.926243859, relative_velocity=12.2933988847)"
            ]
          },
          "metadata": {},
          "execution_count": 55
        }
      ]
    },
    {
      "cell_type": "markdown",
      "source": [
        "## Exercise 3: Plot the Closest Approaches\n",
        "\n",
        "Write a function that takes an Asteroid object as a parameter and makes a timeline plot of close approaches.  You may wish to use the `matplotlib.pyplot` `plot` object.  Here is an example of a timeline plot for the asteroid with neo id '54339874'\n",
        "\n",
        "![Screenshot 2025-01-02 at 10.35.29 AM.png](data:image/png;base64,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)"
      ],
      "metadata": {
        "id": "d9EeDx_aLZF6"
      }
    },
    {
      "cell_type": "code",
      "source": [
        "import matplotlib.pyplot as plt\n",
        "from datetime import datetime\n",
        "\n",
        "def plot_close_approaches(asteroid):\n",
        "\n",
        "    dates = []\n",
        "    # Access close_approaches directly from the asteroid object\n",
        "    approach_list = asteroid.close_approaches\n",
        "    for approach in approach_list:\n",
        "        if approach:\n",
        "            dates.append(approach.approach_date)  # Use approach_date attribute\n",
        "\n",
        "\n",
        "    plt.figure(figsize=(10, 6))\n",
        "    plt.plot(dates, 10)\n",
        "    plt.xlabel(\"Date\")\n",
        "    # Access neo_id from approach.neo (replace if neo_id is stored elsewhere)\n",
        "    plt.title(f\"close approach timeline of {approach_list[0]['neo_reference_id']}\")\n",
        "    plt.xticks(rotation=45)\n",
        "    plt.tight_layout()\n",
        "    plt.grid(True)\n",
        "    plt.show()\n",
        "\n",
        "plot_close_approaches(test_approach)"
      ],
      "metadata": {
        "id": "T1rvLu9rW2Nn",
        "colab": {
          "base_uri": "https://localhost:8080/",
          "height": 858
        },
        "outputId": "66d006f9-e48a-4a26-b65c-fc68f5a5786d"
      },
      "execution_count": 71,
      "outputs": [
        {
          "output_type": "error",
          "ename": "ValueError",
          "evalue": "x and y must have same first dimension, but have shapes (37,) and (1,)",
          "traceback": [
            "\u001b[0;31m---------------------------------------------------------------------------\u001b[0m",
            "\u001b[0;31mValueError\u001b[0m                                Traceback (most recent call last)",
            "\u001b[0;32m<ipython-input-71-1bb177109a93>\u001b[0m in \u001b[0;36m<cell line: 0>\u001b[0;34m()\u001b[0m\n\u001b[1;32m     22\u001b[0m     \u001b[0mplt\u001b[0m\u001b[0;34m.\u001b[0m\u001b[0mshow\u001b[0m\u001b[0;34m(\u001b[0m\u001b[0;34m)\u001b[0m\u001b[0;34m\u001b[0m\u001b[0;34m\u001b[0m\u001b[0m\n\u001b[1;32m     23\u001b[0m \u001b[0;34m\u001b[0m\u001b[0m\n\u001b[0;32m---> 24\u001b[0;31m \u001b[0mplot_close_approaches\u001b[0m\u001b[0;34m(\u001b[0m\u001b[0mtest_approach\u001b[0m\u001b[0;34m)\u001b[0m\u001b[0;34m\u001b[0m\u001b[0;34m\u001b[0m\u001b[0m\n\u001b[0m",
            "\u001b[0;32m<ipython-input-71-1bb177109a93>\u001b[0m in \u001b[0;36mplot_close_approaches\u001b[0;34m(asteroid)\u001b[0m\n\u001b[1;32m     13\u001b[0m \u001b[0;34m\u001b[0m\u001b[0m\n\u001b[1;32m     14\u001b[0m     \u001b[0mplt\u001b[0m\u001b[0;34m.\u001b[0m\u001b[0mfigure\u001b[0m\u001b[0;34m(\u001b[0m\u001b[0mfigsize\u001b[0m\u001b[0;34m=\u001b[0m\u001b[0;34m(\u001b[0m\u001b[0;36m10\u001b[0m\u001b[0;34m,\u001b[0m \u001b[0;36m6\u001b[0m\u001b[0;34m)\u001b[0m\u001b[0;34m)\u001b[0m\u001b[0;34m\u001b[0m\u001b[0;34m\u001b[0m\u001b[0m\n\u001b[0;32m---> 15\u001b[0;31m     \u001b[0mplt\u001b[0m\u001b[0;34m.\u001b[0m\u001b[0mplot\u001b[0m\u001b[0;34m(\u001b[0m\u001b[0mdates\u001b[0m\u001b[0;34m,\u001b[0m \u001b[0;36m10\u001b[0m\u001b[0;34m)\u001b[0m\u001b[0;34m\u001b[0m\u001b[0;34m\u001b[0m\u001b[0m\n\u001b[0m\u001b[1;32m     16\u001b[0m     \u001b[0mplt\u001b[0m\u001b[0;34m.\u001b[0m\u001b[0mxlabel\u001b[0m\u001b[0;34m(\u001b[0m\u001b[0;34m\"Date\"\u001b[0m\u001b[0;34m)\u001b[0m\u001b[0;34m\u001b[0m\u001b[0;34m\u001b[0m\u001b[0m\n\u001b[1;32m     17\u001b[0m     \u001b[0;31m# Access neo_id from approach.neo (replace if neo_id is stored elsewhere)\u001b[0m\u001b[0;34m\u001b[0m\u001b[0;34m\u001b[0m\u001b[0m\n",
            "\u001b[0;32m/usr/local/lib/python3.11/dist-packages/matplotlib/pyplot.py\u001b[0m in \u001b[0;36mplot\u001b[0;34m(scalex, scaley, data, *args, **kwargs)\u001b[0m\n\u001b[1;32m   3827\u001b[0m     \u001b[0;34m**\u001b[0m\u001b[0mkwargs\u001b[0m\u001b[0;34m,\u001b[0m\u001b[0;34m\u001b[0m\u001b[0;34m\u001b[0m\u001b[0m\n\u001b[1;32m   3828\u001b[0m ) -> list[Line2D]:\n\u001b[0;32m-> 3829\u001b[0;31m     return gca().plot(\n\u001b[0m\u001b[1;32m   3830\u001b[0m         \u001b[0;34m*\u001b[0m\u001b[0margs\u001b[0m\u001b[0;34m,\u001b[0m\u001b[0;34m\u001b[0m\u001b[0;34m\u001b[0m\u001b[0m\n\u001b[1;32m   3831\u001b[0m         \u001b[0mscalex\u001b[0m\u001b[0;34m=\u001b[0m\u001b[0mscalex\u001b[0m\u001b[0;34m,\u001b[0m\u001b[0;34m\u001b[0m\u001b[0;34m\u001b[0m\u001b[0m\n",
            "\u001b[0;32m/usr/local/lib/python3.11/dist-packages/matplotlib/axes/_axes.py\u001b[0m in \u001b[0;36mplot\u001b[0;34m(self, scalex, scaley, data, *args, **kwargs)\u001b[0m\n\u001b[1;32m   1775\u001b[0m         \"\"\"\n\u001b[1;32m   1776\u001b[0m         \u001b[0mkwargs\u001b[0m \u001b[0;34m=\u001b[0m \u001b[0mcbook\u001b[0m\u001b[0;34m.\u001b[0m\u001b[0mnormalize_kwargs\u001b[0m\u001b[0;34m(\u001b[0m\u001b[0mkwargs\u001b[0m\u001b[0;34m,\u001b[0m \u001b[0mmlines\u001b[0m\u001b[0;34m.\u001b[0m\u001b[0mLine2D\u001b[0m\u001b[0;34m)\u001b[0m\u001b[0;34m\u001b[0m\u001b[0;34m\u001b[0m\u001b[0m\n\u001b[0;32m-> 1777\u001b[0;31m         \u001b[0mlines\u001b[0m \u001b[0;34m=\u001b[0m \u001b[0;34m[\u001b[0m\u001b[0;34m*\u001b[0m\u001b[0mself\u001b[0m\u001b[0;34m.\u001b[0m\u001b[0m_get_lines\u001b[0m\u001b[0;34m(\u001b[0m\u001b[0mself\u001b[0m\u001b[0;34m,\u001b[0m \u001b[0;34m*\u001b[0m\u001b[0margs\u001b[0m\u001b[0;34m,\u001b[0m \u001b[0mdata\u001b[0m\u001b[0;34m=\u001b[0m\u001b[0mdata\u001b[0m\u001b[0;34m,\u001b[0m \u001b[0;34m**\u001b[0m\u001b[0mkwargs\u001b[0m\u001b[0;34m)\u001b[0m\u001b[0;34m]\u001b[0m\u001b[0;34m\u001b[0m\u001b[0;34m\u001b[0m\u001b[0m\n\u001b[0m\u001b[1;32m   1778\u001b[0m         \u001b[0;32mfor\u001b[0m \u001b[0mline\u001b[0m \u001b[0;32min\u001b[0m \u001b[0mlines\u001b[0m\u001b[0;34m:\u001b[0m\u001b[0;34m\u001b[0m\u001b[0;34m\u001b[0m\u001b[0m\n\u001b[1;32m   1779\u001b[0m             \u001b[0mself\u001b[0m\u001b[0;34m.\u001b[0m\u001b[0madd_line\u001b[0m\u001b[0;34m(\u001b[0m\u001b[0mline\u001b[0m\u001b[0;34m)\u001b[0m\u001b[0;34m\u001b[0m\u001b[0;34m\u001b[0m\u001b[0m\n",
            "\u001b[0;32m/usr/local/lib/python3.11/dist-packages/matplotlib/axes/_base.py\u001b[0m in \u001b[0;36m__call__\u001b[0;34m(self, axes, data, return_kwargs, *args, **kwargs)\u001b[0m\n\u001b[1;32m    295\u001b[0m                 \u001b[0mthis\u001b[0m \u001b[0;34m+=\u001b[0m \u001b[0margs\u001b[0m\u001b[0;34m[\u001b[0m\u001b[0;36m0\u001b[0m\u001b[0;34m]\u001b[0m\u001b[0;34m,\u001b[0m\u001b[0;34m\u001b[0m\u001b[0;34m\u001b[0m\u001b[0m\n\u001b[1;32m    296\u001b[0m                 \u001b[0margs\u001b[0m \u001b[0;34m=\u001b[0m \u001b[0margs\u001b[0m\u001b[0;34m[\u001b[0m\u001b[0;36m1\u001b[0m\u001b[0;34m:\u001b[0m\u001b[0;34m]\u001b[0m\u001b[0;34m\u001b[0m\u001b[0;34m\u001b[0m\u001b[0m\n\u001b[0;32m--> 297\u001b[0;31m             yield from self._plot_args(\n\u001b[0m\u001b[1;32m    298\u001b[0m                 \u001b[0maxes\u001b[0m\u001b[0;34m,\u001b[0m \u001b[0mthis\u001b[0m\u001b[0;34m,\u001b[0m \u001b[0mkwargs\u001b[0m\u001b[0;34m,\u001b[0m \u001b[0mambiguous_fmt_datakey\u001b[0m\u001b[0;34m=\u001b[0m\u001b[0mambiguous_fmt_datakey\u001b[0m\u001b[0;34m,\u001b[0m\u001b[0;34m\u001b[0m\u001b[0;34m\u001b[0m\u001b[0m\n\u001b[1;32m    299\u001b[0m                 \u001b[0mreturn_kwargs\u001b[0m\u001b[0;34m=\u001b[0m\u001b[0mreturn_kwargs\u001b[0m\u001b[0;34m\u001b[0m\u001b[0;34m\u001b[0m\u001b[0m\n",
            "\u001b[0;32m/usr/local/lib/python3.11/dist-packages/matplotlib/axes/_base.py\u001b[0m in \u001b[0;36m_plot_args\u001b[0;34m(self, axes, tup, kwargs, return_kwargs, ambiguous_fmt_datakey)\u001b[0m\n\u001b[1;32m    492\u001b[0m \u001b[0;34m\u001b[0m\u001b[0m\n\u001b[1;32m    493\u001b[0m         \u001b[0;32mif\u001b[0m \u001b[0mx\u001b[0m\u001b[0;34m.\u001b[0m\u001b[0mshape\u001b[0m\u001b[0;34m[\u001b[0m\u001b[0;36m0\u001b[0m\u001b[0;34m]\u001b[0m \u001b[0;34m!=\u001b[0m \u001b[0my\u001b[0m\u001b[0;34m.\u001b[0m\u001b[0mshape\u001b[0m\u001b[0;34m[\u001b[0m\u001b[0;36m0\u001b[0m\u001b[0;34m]\u001b[0m\u001b[0;34m:\u001b[0m\u001b[0;34m\u001b[0m\u001b[0;34m\u001b[0m\u001b[0m\n\u001b[0;32m--> 494\u001b[0;31m             raise ValueError(f\"x and y must have same first dimension, but \"\n\u001b[0m\u001b[1;32m    495\u001b[0m                              f\"have shapes {x.shape} and {y.shape}\")\n\u001b[1;32m    496\u001b[0m         \u001b[0;32mif\u001b[0m \u001b[0mx\u001b[0m\u001b[0;34m.\u001b[0m\u001b[0mndim\u001b[0m \u001b[0;34m>\u001b[0m \u001b[0;36m2\u001b[0m \u001b[0;32mor\u001b[0m \u001b[0my\u001b[0m\u001b[0;34m.\u001b[0m\u001b[0mndim\u001b[0m \u001b[0;34m>\u001b[0m \u001b[0;36m2\u001b[0m\u001b[0;34m:\u001b[0m\u001b[0;34m\u001b[0m\u001b[0;34m\u001b[0m\u001b[0m\n",
            "\u001b[0;31mValueError\u001b[0m: x and y must have same first dimension, but have shapes (37,) and (1,)"
          ]
        },
        {
          "output_type": "display_data",
          "data": {
            "text/plain": [
              "<Figure size 1000x600 with 1 Axes>"
            ],
            "image/png": "[encoded data removed]"
          },
          "metadata": {}
        }
      ]
    },
    {
      "cell_type": "markdown",
      "source": [
        "## Challenge - Take your skills to the next level...\n",
        "\n",
        " With these data structures in place, we can now start answering all kinds of interesting questions about a single Asteroid or a set of Asteroids.  \n",
        "Here’s a couple ideas to try:\n",
        "\n",
        "\n",
        "\n",
        "* write a **function** named `most_dangerous_approach`, that takes a date range and returns a single “potentially hazardous” Asteroid object that makes the closest approach to Earth in within that range.  Your algorithm will ultimately need to:\n",
        "    * grab the list of NEO’s for the given date range;\n",
        "    * use a list comprehension to build the list of Asteroid objects for the NEO’s returned\n",
        "    * use a list comprehension to filter  potentially hazardous Asteroids only;\n",
        "    * use a list comprehension to map each Asteroid to its  closest_earth_approach\n",
        "    * apply Python’s min function to identify the Asteroid with the closest_earth_approach\n",
        "\n",
        "You may want to decompose some of these steps into smaller functions.\n",
        "* add a method to the Asteroid class, estimated_mass, that computes an estimate of the Asteroid’s mass based on its diameter.  This is a model – state your assumptions.\n",
        "* add a method to the CloseApproach class, impact_force,  that estimates the force of impact if the Asteroid hit the orbiting object.  Again, this is a model, state your assumptions."
      ],
      "metadata": {
        "collapsed": false,
        "id": "p8VP8kr-fSzQ"
      }
    },
    {
      "cell_type": "code",
      "source": [
        "# Ex. 5 (challenge) your code here"
      ],
      "metadata": {
        "id": "Ds1YevErlzCe",
        "pycharm": {
          "name": "#%%\n"
        },
        "ExecuteTime": {
          "end_time": "2024-01-04T04:11:12.902837Z",
          "start_time": "2024-01-04T04:11:12.900180Z"
        }
      },
      "execution_count": null,
      "outputs": []
    }
  ]
}